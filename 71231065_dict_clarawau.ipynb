{
 "cells": [
  {
   "cell_type": "code",
   "execution_count": 9,
   "id": "048c75e8",
   "metadata": {},
   "outputs": [
    {
     "name": "stdout",
     "output_type": "stream",
     "text": [
      "key value item\n",
      "1    10    1\n",
      "2    20    2\n",
      "3    30    3\n",
      "4    40    4\n",
      "5    50    5\n",
      "6    60    6\n"
     ]
    }
   ],
   "source": [
    "dictionary = {1: 10, 2: 20, 3: 30, 4: 40, 5: 50, 6: 60}\n",
    "print(\"key value item\")\n",
    "for key in dictionary:\n",
    "    print(f\"{key}    {dictionary[key]}    {key}\")"
   ]
  },
  {
   "cell_type": "code",
   "execution_count": 2,
   "id": "d41d6516",
   "metadata": {},
   "outputs": [
    {
     "name": "stdout",
     "output_type": "stream",
     "text": [
      "Masukkan elemen-elemen untuk lista (pisahkan dengan spasi): red green blue\n",
      "Masukkan elemen-elemen untuk listb (pisahkan dengan spasi): #FF0000 #008000 #0000FF\n",
      "{'red': '#FF0000', 'green': '#008000', 'blue': '#0000FF'}\n"
     ]
    }
   ],
   "source": [
    "lista = input(\"Masukkan elemen-elemen untuk lista (pisahkan dengan spasi): \").split()\n",
    "listb = input(\"Masukkan elemen-elemen untuk listb (pisahkan dengan spasi): \").split()\n",
    "result_dict = {}\n",
    "for i in range(len(lista)):\n",
    "    result_dict[lista[i]] = listb[i]\n",
    "print(result_dict)"
   ]
  },
  {
   "cell_type": "code",
   "execution_count": 4,
   "id": "934e2b1d",
   "metadata": {},
   "outputs": [
    {
     "name": "stdout",
     "output_type": "stream",
     "text": [
      "Masukkan nama file: mbox-short.txt\n",
      "{'gopal.ramasammycook@gmail.com': 1, 'zqian@umich.edu': 4, 'cwen@iupui.edu': 5, 'louis@media.berkeley.edu': 3, 'david.horwitz@uct.ac.za': 4, 'stephen.marquard@uct.ac.za': 2, 'gsilver@umich.edu': 3, 'antranig@caret.cam.ac.uk': 1, 'rjlowe@iupui.edu': 2, 'wagnermr@iupui.edu': 1, 'ray@media.berkeley.edu': 1}\n"
     ]
    }
   ],
   "source": [
    "user = input('Masukkan nama file: ')\n",
    "try:\n",
    "    buka = open(user)\n",
    "except:\n",
    "    print('File tidak dapat dibuka:', user)\n",
    "    exit()\n",
    "emails = dict()\n",
    "for k in buka:\n",
    "    jika = k.split()\n",
    "    if len(jika) >= 2:\n",
    "        email = jika[1]\n",
    "        emails[email] = emails.get(email, 0) + 1\n",
    "print(emails)\n",
    "buka.close()"
   ]
  },
  {
   "cell_type": "code",
   "execution_count": 8,
   "id": "9c5033dd",
   "metadata": {},
   "outputs": [
    {
     "name": "stdout",
     "output_type": "stream",
     "text": [
      "{'zqian@umich.edu': 4, 'cwen@iupui.edu': 7, 'louis@media.berkeley.edu': 3, 'david.horwitz@uct.ac.za': 5, 'stephen.marquard@uct.ac.za': 2, 'gsilver@umich.edu': 4, 'rjlowe@iupui.edu': 2, 'ray@media.berkeley.edu': 2}\n"
     ]
    }
   ],
   "source": [
    "buka = open('mbox-sh.txt')\n",
    "kamus = {}\n",
    "for kamu in buka:\n",
    "    kata = kamu.split()\n",
    "    for k in kata:\n",
    "        kamus[k] = kamus.get(k, 0) + 1\n",
    "kata_sama = {}\n",
    "for k, v in kamus.items():\n",
    "    if v > 1:\n",
    "        kata_sama[k] = v\n",
    "print(kata_sama)"
   ]
  },
  {
   "cell_type": "code",
   "execution_count": null,
   "id": "ff7fba1d",
   "metadata": {},
   "outputs": [],
   "source": []
  }
 ],
 "metadata": {
  "kernelspec": {
   "display_name": "Python 3 (ipykernel)",
   "language": "python",
   "name": "python3"
  },
  "language_info": {
   "codemirror_mode": {
    "name": "ipython",
    "version": 3
   },
   "file_extension": ".py",
   "mimetype": "text/x-python",
   "name": "python",
   "nbconvert_exporter": "python",
   "pygments_lexer": "ipython3",
   "version": "3.11.5"
  }
 },
 "nbformat": 4,
 "nbformat_minor": 5
}
